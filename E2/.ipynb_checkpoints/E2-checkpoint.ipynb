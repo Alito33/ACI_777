{
 "cells": [
  {
   "cell_type": "markdown",
   "id": "19cd3eb4",
   "metadata": {},
   "source": [
    "## Alexander Figueroa , 27-10-2021\n",
    "### A cada alumno se le asignó en el ejercicio 1 un conjunto de datos en formato CSV\n",
    "\n",
    "### Deberá:\n",
    "\n",
    "#### 1.- Crear una carpeta nueva en su repositorio git con el nombre E2 (0.2 pto)\n",
    "#### 2.- Dentro de E2 crear una carpeta que se llame data. (0.2 pto)\n",
    "#### 3.- Guardar los datos asignados en esa carpeta. (0.2 pto)\n",
    "#### 4.- Dentro de E2 debera crear un Jupyter Notebook llamado E2. (0.2 pto)\n",
    "#### 5.- En el Jupyter Notebook, configurar la primera casilla en Lenguaje Markdown y escribir su nombre, fecha, y esta lista de  instrucciones de forma ordenada. (0.2 pts)\n",
    "#### 6.- Importar la librería pandas de python para poder procesar y graficar los datos del archivo. Utilizar describe, shape e indicar para que se utilizan estos comandos y que puede deducir de esta información. Debe separar el código en las casillas que estime conveniente, pero se solicita minimo que en una casilla esten solo las importaciones, en otra solo la lectura de los datos y otra con los plots, además cada casilla debe tener una casilla previa que describa el código en formato markdown. (3 pts)\n",
    "#### 7.- Hacer los gráficos correspondientes al conjunto de datos seleccionado. (1 pts)\n",
    "#### 8.- Utilizar los comandos adecuados de git para actualizar su repositorio y dejarlo disponible en github de forma pública. (1 pts)\n",
    "#### 9.- La nota será calculada de la siguiente manera:\n",
    "\n",
    "#### NOTA FINAL = Puntaje + 1\n",
    "\n",
    "#### ⚠️ Bonus Track, pueden usar la librería seaborn para embellecer sus gráficos de matplotlib. (0.5 pts)"
   ]
  },
  {
   "cell_type": "code",
   "execution_count": 1,
   "id": "e8d43ba0",
   "metadata": {},
   "outputs": [],
   "source": [
    "import csv\n",
    "import pandas as pd\n",
    "import matplotlib.pyplot as plt\n",
    "import seaborn as sb"
   ]
  },
  {
   "cell_type": "markdown",
   "id": "47b8ead3",
   "metadata": {},
   "source": [
    "#### Aca se define df(dataframe) para que lea el csv"
   ]
  },
  {
   "cell_type": "code",
   "execution_count": 2,
   "id": "3f2b21e6",
   "metadata": {},
   "outputs": [],
   "source": [
    "df= pd.read_csv(\"data/PacientesVMI.csv\",index_col='Casos')"
   ]
  },
  {
   "cell_type": "markdown",
   "id": "e34e57fd",
   "metadata": {},
   "source": [
    "#### Aca se observa el tipo de dato de cada fila"
   ]
  },
  {
   "cell_type": "code",
   "execution_count": 3,
   "id": "a1a4359e",
   "metadata": {},
   "outputs": [
    {
     "data": {
      "text/plain": [
       "2020-04-11    float64\n",
       "2020-04-12    float64\n",
       "2020-04-13    float64\n",
       "2020-04-14    float64\n",
       "2020-04-15    float64\n",
       "               ...   \n",
       "2021-09-04    float64\n",
       "2021-09-05    float64\n",
       "2021-09-06    float64\n",
       "2021-09-07    float64\n",
       "2021-09-08    float64\n",
       "Length: 516, dtype: object"
      ]
     },
     "execution_count": 3,
     "metadata": {},
     "output_type": "execute_result"
    }
   ],
   "source": [
    "df.dtypes"
   ]
  },
  {
   "cell_type": "markdown",
   "id": "ec3e132b",
   "metadata": {},
   "source": [
    "#### Aca se observa la cantidad de filas y columnas(En el mismo orden que se represento)"
   ]
  },
  {
   "cell_type": "code",
   "execution_count": 4,
   "id": "d75bb34e",
   "metadata": {},
   "outputs": [
    {
     "data": {
      "text/plain": [
       "(3, 516)"
      ]
     },
     "execution_count": 4,
     "metadata": {},
     "output_type": "execute_result"
    }
   ],
   "source": [
    "df.shape"
   ]
  },
  {
   "cell_type": "markdown",
   "id": "9c3d21b8",
   "metadata": {},
   "source": [
    "#### Aca se describe en general datos especificos como la media, el minimo, etc..."
   ]
  },
  {
   "cell_type": "code",
   "execution_count": 5,
   "id": "6b40482e",
   "metadata": {
    "scrolled": true
   },
   "outputs": [
    {
     "data": {
      "text/html": [
       "<div>\n",
       "<style scoped>\n",
       "    .dataframe tbody tr th:only-of-type {\n",
       "        vertical-align: middle;\n",
       "    }\n",
       "\n",
       "    .dataframe tbody tr th {\n",
       "        vertical-align: top;\n",
       "    }\n",
       "\n",
       "    .dataframe thead th {\n",
       "        text-align: right;\n",
       "    }\n",
       "</style>\n",
       "<table border=\"1\" class=\"dataframe\">\n",
       "  <thead>\n",
       "    <tr style=\"text-align: right;\">\n",
       "      <th></th>\n",
       "      <th>2020-04-11</th>\n",
       "      <th>2020-04-12</th>\n",
       "      <th>2020-04-13</th>\n",
       "      <th>2020-04-14</th>\n",
       "      <th>2020-04-15</th>\n",
       "      <th>2020-04-16</th>\n",
       "      <th>2020-04-17</th>\n",
       "      <th>2020-04-18</th>\n",
       "      <th>2020-04-19</th>\n",
       "      <th>2020-04-20</th>\n",
       "      <th>...</th>\n",
       "      <th>2021-08-30</th>\n",
       "      <th>2021-08-31</th>\n",
       "      <th>2021-09-01</th>\n",
       "      <th>2021-09-02</th>\n",
       "      <th>2021-09-03</th>\n",
       "      <th>2021-09-04</th>\n",
       "      <th>2021-09-05</th>\n",
       "      <th>2021-09-06</th>\n",
       "      <th>2021-09-07</th>\n",
       "      <th>2021-09-08</th>\n",
       "    </tr>\n",
       "  </thead>\n",
       "  <tbody>\n",
       "    <tr>\n",
       "      <th>count</th>\n",
       "      <td>1.0</td>\n",
       "      <td>1.0</td>\n",
       "      <td>1.0</td>\n",
       "      <td>1.0</td>\n",
       "      <td>1.0</td>\n",
       "      <td>1.0</td>\n",
       "      <td>1.0</td>\n",
       "      <td>1.0</td>\n",
       "      <td>1.0</td>\n",
       "      <td>1.0</td>\n",
       "      <td>...</td>\n",
       "      <td>2.000000</td>\n",
       "      <td>2.000000</td>\n",
       "      <td>2.000000</td>\n",
       "      <td>2.000000</td>\n",
       "      <td>2.000000</td>\n",
       "      <td>2.000000</td>\n",
       "      <td>2.000000</td>\n",
       "      <td>2.000000</td>\n",
       "      <td>2.00000</td>\n",
       "      <td>2.000000</td>\n",
       "    </tr>\n",
       "    <tr>\n",
       "      <th>mean</th>\n",
       "      <td>322.0</td>\n",
       "      <td>328.0</td>\n",
       "      <td>330.0</td>\n",
       "      <td>315.0</td>\n",
       "      <td>315.0</td>\n",
       "      <td>313.0</td>\n",
       "      <td>316.0</td>\n",
       "      <td>296.0</td>\n",
       "      <td>312.0</td>\n",
       "      <td>296.0</td>\n",
       "      <td>...</td>\n",
       "      <td>344.500000</td>\n",
       "      <td>343.500000</td>\n",
       "      <td>328.500000</td>\n",
       "      <td>317.500000</td>\n",
       "      <td>308.000000</td>\n",
       "      <td>298.500000</td>\n",
       "      <td>288.500000</td>\n",
       "      <td>287.500000</td>\n",
       "      <td>288.00000</td>\n",
       "      <td>280.000000</td>\n",
       "    </tr>\n",
       "    <tr>\n",
       "      <th>std</th>\n",
       "      <td>NaN</td>\n",
       "      <td>NaN</td>\n",
       "      <td>NaN</td>\n",
       "      <td>NaN</td>\n",
       "      <td>NaN</td>\n",
       "      <td>NaN</td>\n",
       "      <td>NaN</td>\n",
       "      <td>NaN</td>\n",
       "      <td>NaN</td>\n",
       "      <td>NaN</td>\n",
       "      <td>...</td>\n",
       "      <td>258.093975</td>\n",
       "      <td>239.709199</td>\n",
       "      <td>238.294985</td>\n",
       "      <td>222.738636</td>\n",
       "      <td>222.031529</td>\n",
       "      <td>221.324423</td>\n",
       "      <td>221.324423</td>\n",
       "      <td>211.424928</td>\n",
       "      <td>206.47518</td>\n",
       "      <td>199.404112</td>\n",
       "    </tr>\n",
       "    <tr>\n",
       "      <th>min</th>\n",
       "      <td>322.0</td>\n",
       "      <td>328.0</td>\n",
       "      <td>330.0</td>\n",
       "      <td>315.0</td>\n",
       "      <td>315.0</td>\n",
       "      <td>313.0</td>\n",
       "      <td>316.0</td>\n",
       "      <td>296.0</td>\n",
       "      <td>312.0</td>\n",
       "      <td>296.0</td>\n",
       "      <td>...</td>\n",
       "      <td>162.000000</td>\n",
       "      <td>174.000000</td>\n",
       "      <td>160.000000</td>\n",
       "      <td>160.000000</td>\n",
       "      <td>151.000000</td>\n",
       "      <td>142.000000</td>\n",
       "      <td>132.000000</td>\n",
       "      <td>138.000000</td>\n",
       "      <td>142.00000</td>\n",
       "      <td>139.000000</td>\n",
       "    </tr>\n",
       "    <tr>\n",
       "      <th>25%</th>\n",
       "      <td>322.0</td>\n",
       "      <td>328.0</td>\n",
       "      <td>330.0</td>\n",
       "      <td>315.0</td>\n",
       "      <td>315.0</td>\n",
       "      <td>313.0</td>\n",
       "      <td>316.0</td>\n",
       "      <td>296.0</td>\n",
       "      <td>312.0</td>\n",
       "      <td>296.0</td>\n",
       "      <td>...</td>\n",
       "      <td>253.250000</td>\n",
       "      <td>258.750000</td>\n",
       "      <td>244.250000</td>\n",
       "      <td>238.750000</td>\n",
       "      <td>229.500000</td>\n",
       "      <td>220.250000</td>\n",
       "      <td>210.250000</td>\n",
       "      <td>212.750000</td>\n",
       "      <td>215.00000</td>\n",
       "      <td>209.500000</td>\n",
       "    </tr>\n",
       "    <tr>\n",
       "      <th>50%</th>\n",
       "      <td>322.0</td>\n",
       "      <td>328.0</td>\n",
       "      <td>330.0</td>\n",
       "      <td>315.0</td>\n",
       "      <td>315.0</td>\n",
       "      <td>313.0</td>\n",
       "      <td>316.0</td>\n",
       "      <td>296.0</td>\n",
       "      <td>312.0</td>\n",
       "      <td>296.0</td>\n",
       "      <td>...</td>\n",
       "      <td>344.500000</td>\n",
       "      <td>343.500000</td>\n",
       "      <td>328.500000</td>\n",
       "      <td>317.500000</td>\n",
       "      <td>308.000000</td>\n",
       "      <td>298.500000</td>\n",
       "      <td>288.500000</td>\n",
       "      <td>287.500000</td>\n",
       "      <td>288.00000</td>\n",
       "      <td>280.000000</td>\n",
       "    </tr>\n",
       "    <tr>\n",
       "      <th>75%</th>\n",
       "      <td>322.0</td>\n",
       "      <td>328.0</td>\n",
       "      <td>330.0</td>\n",
       "      <td>315.0</td>\n",
       "      <td>315.0</td>\n",
       "      <td>313.0</td>\n",
       "      <td>316.0</td>\n",
       "      <td>296.0</td>\n",
       "      <td>312.0</td>\n",
       "      <td>296.0</td>\n",
       "      <td>...</td>\n",
       "      <td>435.750000</td>\n",
       "      <td>428.250000</td>\n",
       "      <td>412.750000</td>\n",
       "      <td>396.250000</td>\n",
       "      <td>386.500000</td>\n",
       "      <td>376.750000</td>\n",
       "      <td>366.750000</td>\n",
       "      <td>362.250000</td>\n",
       "      <td>361.00000</td>\n",
       "      <td>350.500000</td>\n",
       "    </tr>\n",
       "    <tr>\n",
       "      <th>max</th>\n",
       "      <td>322.0</td>\n",
       "      <td>328.0</td>\n",
       "      <td>330.0</td>\n",
       "      <td>315.0</td>\n",
       "      <td>315.0</td>\n",
       "      <td>313.0</td>\n",
       "      <td>316.0</td>\n",
       "      <td>296.0</td>\n",
       "      <td>312.0</td>\n",
       "      <td>296.0</td>\n",
       "      <td>...</td>\n",
       "      <td>527.000000</td>\n",
       "      <td>513.000000</td>\n",
       "      <td>497.000000</td>\n",
       "      <td>475.000000</td>\n",
       "      <td>465.000000</td>\n",
       "      <td>455.000000</td>\n",
       "      <td>445.000000</td>\n",
       "      <td>437.000000</td>\n",
       "      <td>434.00000</td>\n",
       "      <td>421.000000</td>\n",
       "    </tr>\n",
       "  </tbody>\n",
       "</table>\n",
       "<p>8 rows × 516 columns</p>\n",
       "</div>"
      ],
      "text/plain": [
       "       2020-04-11  2020-04-12  2020-04-13  2020-04-14  2020-04-15  2020-04-16  \\\n",
       "count         1.0         1.0         1.0         1.0         1.0         1.0   \n",
       "mean        322.0       328.0       330.0       315.0       315.0       313.0   \n",
       "std           NaN         NaN         NaN         NaN         NaN         NaN   \n",
       "min         322.0       328.0       330.0       315.0       315.0       313.0   \n",
       "25%         322.0       328.0       330.0       315.0       315.0       313.0   \n",
       "50%         322.0       328.0       330.0       315.0       315.0       313.0   \n",
       "75%         322.0       328.0       330.0       315.0       315.0       313.0   \n",
       "max         322.0       328.0       330.0       315.0       315.0       313.0   \n",
       "\n",
       "       2020-04-17  2020-04-18  2020-04-19  2020-04-20  ...  2021-08-30  \\\n",
       "count         1.0         1.0         1.0         1.0  ...    2.000000   \n",
       "mean        316.0       296.0       312.0       296.0  ...  344.500000   \n",
       "std           NaN         NaN         NaN         NaN  ...  258.093975   \n",
       "min         316.0       296.0       312.0       296.0  ...  162.000000   \n",
       "25%         316.0       296.0       312.0       296.0  ...  253.250000   \n",
       "50%         316.0       296.0       312.0       296.0  ...  344.500000   \n",
       "75%         316.0       296.0       312.0       296.0  ...  435.750000   \n",
       "max         316.0       296.0       312.0       296.0  ...  527.000000   \n",
       "\n",
       "       2021-08-31  2021-09-01  2021-09-02  2021-09-03  2021-09-04  2021-09-05  \\\n",
       "count    2.000000    2.000000    2.000000    2.000000    2.000000    2.000000   \n",
       "mean   343.500000  328.500000  317.500000  308.000000  298.500000  288.500000   \n",
       "std    239.709199  238.294985  222.738636  222.031529  221.324423  221.324423   \n",
       "min    174.000000  160.000000  160.000000  151.000000  142.000000  132.000000   \n",
       "25%    258.750000  244.250000  238.750000  229.500000  220.250000  210.250000   \n",
       "50%    343.500000  328.500000  317.500000  308.000000  298.500000  288.500000   \n",
       "75%    428.250000  412.750000  396.250000  386.500000  376.750000  366.750000   \n",
       "max    513.000000  497.000000  475.000000  465.000000  455.000000  445.000000   \n",
       "\n",
       "       2021-09-06  2021-09-07  2021-09-08  \n",
       "count    2.000000     2.00000    2.000000  \n",
       "mean   287.500000   288.00000  280.000000  \n",
       "std    211.424928   206.47518  199.404112  \n",
       "min    138.000000   142.00000  139.000000  \n",
       "25%    212.750000   215.00000  209.500000  \n",
       "50%    287.500000   288.00000  280.000000  \n",
       "75%    362.250000   361.00000  350.500000  \n",
       "max    437.000000   434.00000  421.000000  \n",
       "\n",
       "[8 rows x 516 columns]"
      ]
     },
     "execution_count": 5,
     "metadata": {},
     "output_type": "execute_result"
    }
   ],
   "source": [
    "df.describe()"
   ]
  },
  {
   "cell_type": "markdown",
   "id": "cb17ad35",
   "metadata": {},
   "source": [
    "#### Aca se define dfT para cambiar de lado las columnas con las filas"
   ]
  },
  {
   "cell_type": "code",
   "execution_count": 6,
   "id": "8ee4571a",
   "metadata": {},
   "outputs": [],
   "source": [
    "dfT=df.T"
   ]
  },
  {
   "cell_type": "markdown",
   "id": "5d34f4a5",
   "metadata": {},
   "source": [
    "#### Se representa el punto anterior"
   ]
  },
  {
   "cell_type": "code",
   "execution_count": 7,
   "id": "b93f043e",
   "metadata": {},
   "outputs": [
    {
     "data": {
      "text/html": [
       "<div>\n",
       "<style scoped>\n",
       "    .dataframe tbody tr th:only-of-type {\n",
       "        vertical-align: middle;\n",
       "    }\n",
       "\n",
       "    .dataframe tbody tr th {\n",
       "        vertical-align: top;\n",
       "    }\n",
       "\n",
       "    .dataframe thead th {\n",
       "        text-align: right;\n",
       "    }\n",
       "</style>\n",
       "<table border=\"1\" class=\"dataframe\">\n",
       "  <thead>\n",
       "    <tr style=\"text-align: right;\">\n",
       "      <th>Casos</th>\n",
       "      <th>Pacientes VMI</th>\n",
       "      <th>Pacientes no VM</th>\n",
       "      <th>Pacientes VM no invasiva</th>\n",
       "    </tr>\n",
       "  </thead>\n",
       "  <tbody>\n",
       "    <tr>\n",
       "      <th>2020-04-11</th>\n",
       "      <td>322.0</td>\n",
       "      <td>NaN</td>\n",
       "      <td>NaN</td>\n",
       "    </tr>\n",
       "    <tr>\n",
       "      <th>2020-04-12</th>\n",
       "      <td>328.0</td>\n",
       "      <td>NaN</td>\n",
       "      <td>NaN</td>\n",
       "    </tr>\n",
       "    <tr>\n",
       "      <th>2020-04-13</th>\n",
       "      <td>330.0</td>\n",
       "      <td>NaN</td>\n",
       "      <td>NaN</td>\n",
       "    </tr>\n",
       "    <tr>\n",
       "      <th>2020-04-14</th>\n",
       "      <td>315.0</td>\n",
       "      <td>NaN</td>\n",
       "      <td>NaN</td>\n",
       "    </tr>\n",
       "    <tr>\n",
       "      <th>2020-04-15</th>\n",
       "      <td>315.0</td>\n",
       "      <td>NaN</td>\n",
       "      <td>NaN</td>\n",
       "    </tr>\n",
       "    <tr>\n",
       "      <th>...</th>\n",
       "      <td>...</td>\n",
       "      <td>...</td>\n",
       "      <td>...</td>\n",
       "    </tr>\n",
       "    <tr>\n",
       "      <th>2021-09-04</th>\n",
       "      <td>455.0</td>\n",
       "      <td>142.0</td>\n",
       "      <td>NaN</td>\n",
       "    </tr>\n",
       "    <tr>\n",
       "      <th>2021-09-05</th>\n",
       "      <td>445.0</td>\n",
       "      <td>132.0</td>\n",
       "      <td>NaN</td>\n",
       "    </tr>\n",
       "    <tr>\n",
       "      <th>2021-09-06</th>\n",
       "      <td>437.0</td>\n",
       "      <td>138.0</td>\n",
       "      <td>NaN</td>\n",
       "    </tr>\n",
       "    <tr>\n",
       "      <th>2021-09-07</th>\n",
       "      <td>434.0</td>\n",
       "      <td>142.0</td>\n",
       "      <td>NaN</td>\n",
       "    </tr>\n",
       "    <tr>\n",
       "      <th>2021-09-08</th>\n",
       "      <td>421.0</td>\n",
       "      <td>139.0</td>\n",
       "      <td>NaN</td>\n",
       "    </tr>\n",
       "  </tbody>\n",
       "</table>\n",
       "<p>516 rows × 3 columns</p>\n",
       "</div>"
      ],
      "text/plain": [
       "Casos       Pacientes VMI  Pacientes no VM  Pacientes VM no invasiva\n",
       "2020-04-11          322.0              NaN                       NaN\n",
       "2020-04-12          328.0              NaN                       NaN\n",
       "2020-04-13          330.0              NaN                       NaN\n",
       "2020-04-14          315.0              NaN                       NaN\n",
       "2020-04-15          315.0              NaN                       NaN\n",
       "...                   ...              ...                       ...\n",
       "2021-09-04          455.0            142.0                       NaN\n",
       "2021-09-05          445.0            132.0                       NaN\n",
       "2021-09-06          437.0            138.0                       NaN\n",
       "2021-09-07          434.0            142.0                       NaN\n",
       "2021-09-08          421.0            139.0                       NaN\n",
       "\n",
       "[516 rows x 3 columns]"
      ]
     },
     "execution_count": 7,
     "metadata": {},
     "output_type": "execute_result"
    }
   ],
   "source": [
    "dfT"
   ]
  },
  {
   "cell_type": "markdown",
   "id": "bd2bcf6d",
   "metadata": {},
   "source": [
    "#### Se grafica la informacion anterior"
   ]
  },
  {
   "cell_type": "code",
   "execution_count": 8,
   "id": "a977d59a",
   "metadata": {},
   "outputs": [
    {
     "data": {
      "text/plain": [
       "<AxesSubplot:title={'center':'titulo'}, xlabel='fecha de ingreso', ylabel='cantidad de pacientes'>"
      ]
     },
     "execution_count": 8,
     "metadata": {},
     "output_type": "execute_result"
    },
    {
     "data": {
      "image/png": "[encoded data removed]",
      "text/plain": [
       "<Figure size 1800x720 with 1 Axes>"
      ]
     },
     "metadata": {
      "needs_background": "light"
     },
     "output_type": "display_data"
    }
   ],
   "source": [
    "dfT.plot(title='titulo',ylabel='cantidad de pacientes',xlabel='fecha de ingreso',figsize=(25,10))"
   ]
  },
  {
   "cell_type": "markdown",
   "id": "f4f54599",
   "metadata": {},
   "source": [
    "#### Se define df2 para que tome los datos del csv \"activos vs recuperados\""
   ]
  },
  {
   "cell_type": "code",
   "execution_count": 9,
   "id": "5de765f1",
   "metadata": {},
   "outputs": [],
   "source": [
    "df2=pd.read_csv(\"data/activos_vs_recuperados.csv\",index_col=\"fecha_primeros_sintomas\")"
   ]
  },
  {
   "cell_type": "markdown",
   "id": "1ec2e03e",
   "metadata": {},
   "source": [
    "#### Se revisa los tipo de dato que estan dentro de este csv"
   ]
  },
  {
   "cell_type": "code",
   "execution_count": 10,
   "id": "fbc44f26",
   "metadata": {},
   "outputs": [
    {
     "data": {
      "text/plain": [
       "activos        int64\n",
       "recuperados    int64\n",
       "dtype: object"
      ]
     },
     "execution_count": 10,
     "metadata": {},
     "output_type": "execute_result"
    }
   ],
   "source": [
    "df2.dtypes"
   ]
  },
  {
   "cell_type": "markdown",
   "id": "00cde9e2",
   "metadata": {},
   "source": [
    "#### Se obvserva cantidad de filas y columnas"
   ]
  },
  {
   "cell_type": "code",
   "execution_count": 11,
   "id": "9a8dae83",
   "metadata": {},
   "outputs": [
    {
     "data": {
      "text/plain": [
       "(563, 2)"
      ]
     },
     "execution_count": 11,
     "metadata": {},
     "output_type": "execute_result"
    }
   ],
   "source": [
    "df2.shape"
   ]
  },
  {
   "cell_type": "markdown",
   "id": "33ebd3e8",
   "metadata": {},
   "source": [
    "#### Se describe datos de importancia del csv"
   ]
  },
  {
   "cell_type": "code",
   "execution_count": 12,
   "id": "37082aff",
   "metadata": {},
   "outputs": [
    {
     "data": {
      "text/html": [
       "<div>\n",
       "<style scoped>\n",
       "    .dataframe tbody tr th:only-of-type {\n",
       "        vertical-align: middle;\n",
       "    }\n",
       "\n",
       "    .dataframe tbody tr th {\n",
       "        vertical-align: top;\n",
       "    }\n",
       "\n",
       "    .dataframe thead th {\n",
       "        text-align: right;\n",
       "    }\n",
       "</style>\n",
       "<table border=\"1\" class=\"dataframe\">\n",
       "  <thead>\n",
       "    <tr style=\"text-align: right;\">\n",
       "      <th></th>\n",
       "      <th>activos</th>\n",
       "      <th>recuperados</th>\n",
       "    </tr>\n",
       "  </thead>\n",
       "  <tbody>\n",
       "    <tr>\n",
       "      <th>count</th>\n",
       "      <td>563.000000</td>\n",
       "      <td>5.630000e+02</td>\n",
       "    </tr>\n",
       "    <tr>\n",
       "      <th>mean</th>\n",
       "      <td>31288.930728</td>\n",
       "      <td>6.592044e+05</td>\n",
       "    </tr>\n",
       "    <tr>\n",
       "      <th>std</th>\n",
       "      <td>22421.221546</td>\n",
       "      <td>5.134838e+05</td>\n",
       "    </tr>\n",
       "    <tr>\n",
       "      <th>min</th>\n",
       "      <td>1.000000</td>\n",
       "      <td>0.000000e+00</td>\n",
       "    </tr>\n",
       "    <tr>\n",
       "      <th>25%</th>\n",
       "      <td>15139.500000</td>\n",
       "      <td>2.860215e+05</td>\n",
       "    </tr>\n",
       "    <tr>\n",
       "      <th>50%</th>\n",
       "      <td>22334.000000</td>\n",
       "      <td>5.230810e+05</td>\n",
       "    </tr>\n",
       "    <tr>\n",
       "      <th>75%</th>\n",
       "      <td>48121.000000</td>\n",
       "      <td>1.061054e+06</td>\n",
       "    </tr>\n",
       "    <tr>\n",
       "      <th>max</th>\n",
       "      <td>79278.000000</td>\n",
       "      <td>1.599251e+06</td>\n",
       "    </tr>\n",
       "  </tbody>\n",
       "</table>\n",
       "</div>"
      ],
      "text/plain": [
       "            activos   recuperados\n",
       "count    563.000000  5.630000e+02\n",
       "mean   31288.930728  6.592044e+05\n",
       "std    22421.221546  5.134838e+05\n",
       "min        1.000000  0.000000e+00\n",
       "25%    15139.500000  2.860215e+05\n",
       "50%    22334.000000  5.230810e+05\n",
       "75%    48121.000000  1.061054e+06\n",
       "max    79278.000000  1.599251e+06"
      ]
     },
     "execution_count": 12,
     "metadata": {},
     "output_type": "execute_result"
    }
   ],
   "source": [
    "df2.describe()"
   ]
  },
  {
   "cell_type": "markdown",
   "id": "ec5935e7",
   "metadata": {},
   "source": [
    "#### Se muestra en forma de tabla los datos"
   ]
  },
  {
   "cell_type": "code",
   "execution_count": 13,
   "id": "98356886",
   "metadata": {},
   "outputs": [
    {
     "data": {
      "text/html": [
       "<div>\n",
       "<style scoped>\n",
       "    .dataframe tbody tr th:only-of-type {\n",
       "        vertical-align: middle;\n",
       "    }\n",
       "\n",
       "    .dataframe tbody tr th {\n",
       "        vertical-align: top;\n",
       "    }\n",
       "\n",
       "    .dataframe thead th {\n",
       "        text-align: right;\n",
       "    }\n",
       "</style>\n",
       "<table border=\"1\" class=\"dataframe\">\n",
       "  <thead>\n",
       "    <tr style=\"text-align: right;\">\n",
       "      <th></th>\n",
       "      <th>activos</th>\n",
       "      <th>recuperados</th>\n",
       "    </tr>\n",
       "    <tr>\n",
       "      <th>fecha_primeros_sintomas</th>\n",
       "      <th></th>\n",
       "      <th></th>\n",
       "    </tr>\n",
       "  </thead>\n",
       "  <tbody>\n",
       "    <tr>\n",
       "      <th>2020-02-22</th>\n",
       "      <td>1</td>\n",
       "      <td>0</td>\n",
       "    </tr>\n",
       "    <tr>\n",
       "      <th>2020-02-23</th>\n",
       "      <td>2</td>\n",
       "      <td>0</td>\n",
       "    </tr>\n",
       "    <tr>\n",
       "      <th>2020-02-24</th>\n",
       "      <td>2</td>\n",
       "      <td>0</td>\n",
       "    </tr>\n",
       "    <tr>\n",
       "      <th>2020-02-25</th>\n",
       "      <td>8</td>\n",
       "      <td>0</td>\n",
       "    </tr>\n",
       "    <tr>\n",
       "      <th>2020-02-26</th>\n",
       "      <td>8</td>\n",
       "      <td>0</td>\n",
       "    </tr>\n",
       "    <tr>\n",
       "      <th>...</th>\n",
       "      <td>...</td>\n",
       "      <td>...</td>\n",
       "    </tr>\n",
       "    <tr>\n",
       "      <th>2021-09-02</th>\n",
       "      <td>4950</td>\n",
       "      <td>1596995</td>\n",
       "    </tr>\n",
       "    <tr>\n",
       "      <th>2021-09-03</th>\n",
       "      <td>4566</td>\n",
       "      <td>1597692</td>\n",
       "    </tr>\n",
       "    <tr>\n",
       "      <th>2021-09-04</th>\n",
       "      <td>4183</td>\n",
       "      <td>1598245</td>\n",
       "    </tr>\n",
       "    <tr>\n",
       "      <th>2021-09-05</th>\n",
       "      <td>3769</td>\n",
       "      <td>1598767</td>\n",
       "    </tr>\n",
       "    <tr>\n",
       "      <th>2021-09-06</th>\n",
       "      <td>3366</td>\n",
       "      <td>1599251</td>\n",
       "    </tr>\n",
       "  </tbody>\n",
       "</table>\n",
       "<p>563 rows × 2 columns</p>\n",
       "</div>"
      ],
      "text/plain": [
       "                         activos  recuperados\n",
       "fecha_primeros_sintomas                      \n",
       "2020-02-22                     1            0\n",
       "2020-02-23                     2            0\n",
       "2020-02-24                     2            0\n",
       "2020-02-25                     8            0\n",
       "2020-02-26                     8            0\n",
       "...                          ...          ...\n",
       "2021-09-02                  4950      1596995\n",
       "2021-09-03                  4566      1597692\n",
       "2021-09-04                  4183      1598245\n",
       "2021-09-05                  3769      1598767\n",
       "2021-09-06                  3366      1599251\n",
       "\n",
       "[563 rows x 2 columns]"
      ]
     },
     "execution_count": 13,
     "metadata": {},
     "output_type": "execute_result"
    }
   ],
   "source": [
    "df2"
   ]
  },
  {
   "cell_type": "markdown",
   "id": "17943a45",
   "metadata": {},
   "source": [
    "#### Se grafica lo presente en la tabla de forma mas completa"
   ]
  },
  {
   "cell_type": "code",
   "execution_count": 14,
   "id": "d43e4e1b",
   "metadata": {},
   "outputs": [
    {
     "name": "stdout",
     "output_type": "stream",
     "text": [
      "La cantidad de recuperados se esta sumando\n"
     ]
    },
    {
     "data": {
      "text/plain": [
       "<AxesSubplot:title={'center':'Casos de Covid-19'}, xlabel='Fecha de ingreso', ylabel='Cantidad de pacientes'>"
      ]
     },
     "execution_count": 14,
     "metadata": {},
     "output_type": "execute_result"
    },
    {
     "data": {
      "image/png": "[encoded data removed]",
      "text/plain": [
       "<Figure size 1800x720 with 1 Axes>"
      ]
     },
     "metadata": {
      "needs_background": "light"
     },
     "output_type": "display_data"
    }
   ],
   "source": [
    "print(\"La cantidad de recuperados se esta sumando\")\n",
    "df2.plot(title='Casos de Covid-19', ylabel='Cantidad de pacientes', xlabel='Fecha de ingreso', figsize=(25,10))"
   ]
  }
 ],
 "metadata": {
  "kernelspec": {
   "display_name": "Python 3",
   "language": "python",
   "name": "python3"
  },
  "language_info": {
   "codemirror_mode": {
    "name": "ipython",
    "version": 3
   },
   "file_extension": ".py",
   "mimetype": "text/x-python",
   "name": "python",
   "nbconvert_exporter": "python",
   "pygments_lexer": "ipython3",
   "version": "3.8.8"
  }
 },
 "nbformat": 4,
 "nbformat_minor": 5
}
